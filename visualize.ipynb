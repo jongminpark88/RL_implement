{
 "cells": [
  {
   "cell_type": "code",
   "execution_count": 2,
   "id": "9745af4c",
   "metadata": {},
   "outputs": [],
   "source": [
    "from env import GridworldEnv"
   ]
  },
  {
   "cell_type": "markdown",
   "id": "02029c14",
   "metadata": {},
   "source": [
    "# Polict evaluation"
   ]
  },
  {
   "cell_type": "code",
   "execution_count": 8,
   "id": "26c7029b",
   "metadata": {},
   "outputs": [],
   "source": [
    "env = GridworldEnv()\n",
    "policy = {s: {a: 0.25 for a in env.actions} for s in env.get_all_states()}\n",
    "V = {s: 0 for s in range(env.n_states)}"
   ]
  },
  {
   "cell_type": "code",
   "execution_count": null,
   "id": "7e3b83ba",
   "metadata": {},
   "outputs": [],
   "source": [
    "def eval_one(policy, V, env, gamma):\n",
    "    for action, action_prob"
   ]
  }
 ],
 "metadata": {
  "kernelspec": {
   "display_name": "RL",
   "language": "python",
   "name": "python3"
  },
  "language_info": {
   "codemirror_mode": {
    "name": "ipython",
    "version": 3
   },
   "file_extension": ".py",
   "mimetype": "text/x-python",
   "name": "python",
   "nbconvert_exporter": "python",
   "pygments_lexer": "ipython3",
   "version": "3.10.18"
  }
 },
 "nbformat": 4,
 "nbformat_minor": 5
}
