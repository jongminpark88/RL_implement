{
 "cells": [
  {
   "cell_type": "code",
   "execution_count": 1,
   "id": "9745af4c",
   "metadata": {},
   "outputs": [],
   "source": [
    "from env import GridworldEnv\n",
    "from policy_iter import policy_iteration\n",
    "from value_iter import value_iteration\n",
    "import numpy as np"
   ]
  },
  {
   "cell_type": "markdown",
   "id": "20d254a5",
   "metadata": {},
   "source": [
    "# Policy evaluation"
   ]
  },
  {
   "cell_type": "code",
   "execution_count": 2,
   "id": "26c7029b",
   "metadata": {},
   "outputs": [],
   "source": [
    "env = GridworldEnv()\n",
    "policy = np.full((env.n_states,4), 0.25)\n",
    "V = np.zeros(env.n_states)\n",
    "#env.render(V)"
   ]
  },
  {
   "cell_type": "code",
   "execution_count": 3,
   "id": "0a5f294d",
   "metadata": {},
   "outputs": [
    {
     "name": "stdout",
     "output_type": "stream",
     "text": [
      "1\n",
      "  T   -1.0 -1.2 -1.3\n",
      " -1.0 -1.5 -1.7 -1.7\n",
      " -1.2 -1.7 -1.8 -1.9\n",
      " -1.3 -1.7 -1.9  T  \n",
      "2\n",
      "  T   -1.0 -2.0 -3.0\n",
      " -1.0 -2.0 -3.0 -3.9\n",
      " -2.0 -3.0 -3.9 -1.0\n",
      " -3.0 -3.9 -1.0  T  \n",
      "3\n",
      "  T   -1.0 -2.0 -3.0\n",
      " -1.0 -2.0 -3.0 -2.0\n",
      " -2.0 -3.0 -2.0 -1.0\n",
      " -3.0 -2.0 -1.0  T  \n",
      "4\n",
      "  T   -1.0 -2.0 -3.0\n",
      " -1.0 -2.0 -3.0 -2.0\n",
      " -2.0 -3.0 -2.0 -1.0\n",
      " -3.0 -2.0 -1.0  T  \n"
     ]
    }
   ],
   "source": [
    "V, policy = policy_iteration(env, V, policy, threshhold=0.00001,gamma = 0.99)"
   ]
  },
  {
   "cell_type": "markdown",
   "id": "7b07cfd9",
   "metadata": {},
   "source": [
    "# Value iteration"
   ]
  },
  {
   "cell_type": "code",
   "execution_count": 4,
   "id": "822d6ba4",
   "metadata": {},
   "outputs": [],
   "source": [
    "env = GridworldEnv()\n",
    "policy = np.full((env.n_states,4), 0.25)\n",
    "V = np.zeros(env.n_states)\n",
    "#env.render(V)"
   ]
  },
  {
   "cell_type": "code",
   "execution_count": 5,
   "id": "8215e7bb",
   "metadata": {},
   "outputs": [
    {
     "name": "stdout",
     "output_type": "stream",
     "text": [
      "  T   -1.0 -2.0 -3.0\n",
      " -1.0 -2.0 -3.0 -2.0\n",
      " -2.0 -3.0 -2.0 -1.0\n",
      " -3.0 -2.0 -1.0  T  \n"
     ]
    }
   ],
   "source": [
    "V, policy = value_iteration(env, V, policy, threshhold=0.00001,gamma = 0.99)"
   ]
  },
  {
   "cell_type": "code",
   "execution_count": null,
   "id": "8a71c665",
   "metadata": {},
   "outputs": [],
   "source": []
  }
 ],
 "metadata": {
  "kernelspec": {
   "display_name": "RL",
   "language": "python",
   "name": "python3"
  },
  "language_info": {
   "codemirror_mode": {
    "name": "ipython",
    "version": 3
   },
   "file_extension": ".py",
   "mimetype": "text/x-python",
   "name": "python",
   "nbconvert_exporter": "python",
   "pygments_lexer": "ipython3",
   "version": "3.10.18"
  }
 },
 "nbformat": 4,
 "nbformat_minor": 5
}
